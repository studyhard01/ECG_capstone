{
 "cells": [
  {
   "cell_type": "markdown",
   "id": "12d8cd00-1287-4e71-a009-29782f448304",
   "metadata": {},
   "source": [
    "### data_path : data root path\n",
    "### output_dir :  where to save new data and index files\n",
    "### ref_path : reference.csv file path\n",
    "### dataset : 'CPSC2018' or 'physionet2017'"
   ]
  },
  {
   "cell_type": "code",
   "execution_count": null,
   "id": "090ea95c-cc58-4965-b534-3cb3974699e2",
   "metadata": {},
   "outputs": [],
   "source": [
    "! python /tf/hsh/SW_ECG/ECG_capstone/preprocessing.py --data_path '' --output_dir '' --ref_path '' --dataset ''"
   ]
  },
  {
   "cell_type": "markdown",
   "id": "c2f055b6-0870-4f9a-b4c7-2d24bf637d25",
   "metadata": {},
   "source": [
    "### you use cfg to change the parameters"
   ]
  },
  {
   "cell_type": "code",
   "execution_count": 2,
   "id": "44fa15c7-1a66-4f63-981e-00e3b37a0ba0",
   "metadata": {},
   "outputs": [
    {
     "data": {
      "text/plain": [
       "{'filename_col': 'RELATIVE_FILE_PATH',\n",
       " 'fs_col': 'SAMPLE_RATE',\n",
       " 'label_col': 'CLASS',\n",
       " 'index_dir': '/tf/hsh/SW_ECG/data/test_CPSC/',\n",
       " 'ecg_dir': '/tf/hsh/SW_ECG/data/test_CPSC/',\n",
       " 'train_csv': 'train.csv',\n",
       " 'valid_csv': 'valid.csv',\n",
       " 'test_csv': 'test.csv',\n",
       " 'target_lead': '12lead',\n",
       " 'dataset': 'CPSC2018',\n",
       " 'train_transforms': [{'highpass_filter': {'fs': 250, 'cutoff': 0.67}},\n",
       "  {'lowpass_filter': {'fs': 250, 'cutoff': 40}},\n",
       "  {'standardize': {'axis': [-1, -2]}}],\n",
       " 'eval_transforms': [{'highpass_filter': {'fs': 250, 'cutoff': 0.67}},\n",
       "  {'lowpass_filter': {'fs': 250, 'cutoff': 40}},\n",
       "  {'standardize': {'axis': [-1, -2]}}],\n",
       " 'label_dtype': torch.float32,\n",
       " 'optimizer': 'sgd',\n",
       " 'lr': 0.01,\n",
       " 'weight_decay': 0.001,\n",
       " 'metric': {'task': 'multiclass',\n",
       "  'target_metrics': ['Accuracy',\n",
       "   {'F1Score': {'average': 'macro'}},\n",
       "   {'AUROC': {'average': 'macro'}}],\n",
       "  'compute_on_cpu': True,\n",
       "  'sync_on_compute': False,\n",
       "  'num_classes': 4},\n",
       " 'loss': {'name': 'cross_entropy'},\n",
       " 'dataloader': {'batch_size': 16, 'num_workers': 8, 'pin_memory': True},\n",
       " 'train': {'epochs': 10,\n",
       "  'warmup_epochs': 3,\n",
       "  'lr': 0.01,\n",
       "  'weight_decay': 0.001,\n",
       "  'optimizer': 'sgd',\n",
       "  'min_lr': 0,\n",
       "  'accum_iter': 1,\n",
       "  'max_norm': None}}"
      ]
     },
     "execution_count": 2,
     "metadata": {},
     "output_type": "execute_result"
    }
   ],
   "source": [
    "import pickle\n",
    "\n",
    "\n",
    "file_path = '/tf/hsh/SW_ECG/data/test_CPSC/' + 'cfg.json'\n",
    "\n",
    "with open(file_path, 'rb') as fr:\n",
    "    cfg = pickle.load(fr)\n",
    "\n",
    "cfg"
   ]
  },
  {
   "cell_type": "code",
   "execution_count": 3,
   "id": "1eef0ee5-3211-4f80-909a-956f2c7dd13d",
   "metadata": {},
   "outputs": [],
   "source": [
    "from dataset import build_dataset, get_dataloader\n",
    "\n",
    "train_data = build_dataset(cfg , split='train')\n",
    "valid_data = build_dataset(cfg , split='valid')\n",
    "test_data = build_dataset(cfg , split='test')\n",
    "    \n",
    "train_dataloader = get_dataloader(train_data, True, False, \"train\")\n",
    "valid_dataloader = get_dataloader(valid_data, True, False, \"eval\")\n",
    "test_dataloader = get_dataloader(test_data, True, False, \"eval\")"
   ]
  }
 ],
 "metadata": {
  "kernelspec": {
   "display_name": "Python 3 (ipykernel)",
   "language": "python",
   "name": "python3"
  },
  "language_info": {
   "codemirror_mode": {
    "name": "ipython",
    "version": 3
   },
   "file_extension": ".py",
   "mimetype": "text/x-python",
   "name": "python",
   "nbconvert_exporter": "python",
   "pygments_lexer": "ipython3",
   "version": "3.10.8"
  }
 },
 "nbformat": 4,
 "nbformat_minor": 5
}
