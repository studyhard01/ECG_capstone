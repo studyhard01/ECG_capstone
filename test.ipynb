{
 "cells": [
  {
   "cell_type": "markdown",
   "id": "12d8cd00-1287-4e71-a009-29782f448304",
   "metadata": {},
   "source": [
    "### data_path : data root path\n",
    "### output_dir :  where to save new data and index files\n",
    "### ref_path : reference.csv file path\n",
    "### dataset : 'CPSC2018' or 'physionet2017'"
   ]
  },
  {
   "cell_type": "code",
   "execution_count": null,
   "id": "090ea95c-cc58-4965-b534-3cb3974699e2",
   "metadata": {},
   "outputs": [
    {
     "name": "stdout",
     "output_type": "stream",
     "text": [
      "Found 8528 records.\n",
      " 92%|██████████████████████████████████▊   | 7820/8528 [01:08<00:06, 106.62it/s]"
     ]
    }
   ],
   "source": [
    "! python /tf/hsh/SW_ECG/ECG_capstone/preprocessing.py --data_path '' --output_dir '' --ref_path '' --dataset 'phisonet2017'"
   ]
  },
  {
   "cell_type": "markdown",
   "id": "c2f055b6-0870-4f9a-b4c7-2d24bf637d25",
   "metadata": {},
   "source": [
    "### you use cfg to change the parameters"
   ]
  },
  {
   "cell_type": "code",
   "execution_count": null,
   "id": "44fa15c7-1a66-4f63-981e-00e3b37a0ba0",
   "metadata": {},
   "outputs": [],
   "source": [
    "import pickle\n",
    "\n",
    "\n",
    "file_path = '' + 'cfg.json'\n",
    "\n",
    "with open(file_path, 'rb') as fr:\n",
    "    cfg = pickle.load(fr)\n",
    "\n",
    "cfg"
   ]
  },
  {
   "cell_type": "code",
   "execution_count": null,
   "id": "1eef0ee5-3211-4f80-909a-956f2c7dd13d",
   "metadata": {},
   "outputs": [],
   "source": [
    "from dataset import build_dataset, get_dataloader\n",
    "\n",
    "train_data = build_dataset(cfg , split='train')\n",
    "valid_data = build_dataset(cfg , split='valid')\n",
    "test_data = build_dataset(cfg , split='test')\n",
    "    \n",
    "train_dataloader = get_dataloader(train_data, True, False, \"train\")\n",
    "valid_dataloader = get_dataloader(valid_data, True, False, \"eval\")\n",
    "test_dataloader = get_dataloader(test_data, True, False, \"eval\")"
   ]
  }
 ],
 "metadata": {
  "kernelspec": {
   "display_name": "Python 3 (ipykernel)",
   "language": "python",
   "name": "python3"
  },
  "language_info": {
   "codemirror_mode": {
    "name": "ipython",
    "version": 3
   },
   "file_extension": ".py",
   "mimetype": "text/x-python",
   "name": "python",
   "nbconvert_exporter": "python",
   "pygments_lexer": "ipython3",
   "version": "3.10.8"
  }
 },
 "nbformat": 4,
 "nbformat_minor": 5
}
